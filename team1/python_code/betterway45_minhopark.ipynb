{
 "cells": [
  {
   "cell_type": "markdown",
   "metadata": {},
   "source": [
    "# BetterWay 45. 지역 시간은 time이 아닌 datetime으로 표현하자\n",
    "- 협정 세계시(UTC, Coordinated Universal Time)는 시간대에 의존하지 않는 표준시간 표현\n",
    "- UTC는 유닉스 기원 이후로 지나간 초로 시간을 표현하는 컴퓨터에서 잘 작동 (사람한테는 안맞음)\n",
    "- 사람이 사용하는 시간은 현재 있는 위치는 기준\n",
    "    - 사람들 : 정오 or 오전 8시\n",
    "    - 컴퓨터 : UTC 15:00 - 7시\n",
    "- UTC와 지역 시간 사이의 변환이 필요\n",
    "\n",
    "---\n",
    "\n",
    "- 파이썬은 두가지 시간대 변환 방법을 제공 (time, datetime)\n",
    "- time은 치명적인 오류가 일어날 가능성이 큼\n",
    "\n",
    "## time 모듈\n",
    "- 내장 모듈 time의 localtime함수는 유닉스 타임스탬프(유닉스 기원 이후 지난 초 UTC기준)를 호스트 컴퓨터의 시간대와 일치하는 지역 시간으로 변환"
   ]
  },
  {
   "cell_type": "code",
   "execution_count": 1,
   "metadata": {},
   "outputs": [],
   "source": [
    "from time import localtime, strftime\n",
    "\n",
    "now = 1407694710\n",
    "local_tuple = localtime(now)\n",
    "time_format = \"%Y-%m-%d %H:%M:%S\"\n",
    "time_str = strftime(time_format, local_tuple)\n",
    "print(time_str)"
   ]
  },
  {
   "cell_type": "markdown",
   "metadata": {},
   "source": [
    "- 때로는 지역시간을 받아서 유닉스 타임스탬프로 바꿔야하는 경우도 있음\n",
    "- strptime함수로 시간 문자열을 파싱 > mktime으로 지역 시간을 유닉스 타임스탬프로 변환"
   ]
  },
  {
   "cell_type": "code",
   "execution_count": 2,
   "metadata": {},
   "outputs": [
    {
     "name": "stdout",
     "output_type": "stream",
     "text": [
      "1407694710.0\n"
     ]
    }
   ],
   "source": [
    "from time import mktime, strptime\n",
    "\n",
    "time_tuple = strptime(time_str, time_format)\n",
    "utc_now = mktime(time_tuple)\n",
    "print(utc_now)"
   ]
  },
  {
   "cell_type": "markdown",
   "metadata": {},
   "source": [
    "- 한 시간대의 지역 시간을 다른 시간대의 지역 시간으로 변환하려면? (샌프란시스코 -> 뉴욕)\n",
    "- time, localtime, strptime 함수의 반환 값을 직접 조작해서 시간대 반환은 ㄴㄴ 너무 복잡함\n",
    "- 많은 운영체제에서 시간대 변경을 자동으로 관리하는 설정 파일을 갖추고 있음, 파이썬에서는 `time` 모듈을 이용해 이러한 시간대를 사용 가능"
   ]
  },
  {
   "cell_type": "code",
   "execution_count": 3,
   "metadata": {},
   "outputs": [
    {
     "ename": "ValueError",
     "evalue": "time data '2014-05-01 15:45:16 PDT' does not match format '%Y-%m-%d %H:%M:%S %Z'",
     "output_type": "error",
     "traceback": [
      "\u001b[0;31m---------------------------------------------------------------------------\u001b[0m",
      "\u001b[0;31mValueError\u001b[0m                                Traceback (most recent call last)",
      "\u001b[0;32m<ipython-input-3-44d00c3f5106>\u001b[0m in \u001b[0;36m<module>\u001b[0;34m()\u001b[0m\n\u001b[1;32m      2\u001b[0m \u001b[0mparse_format\u001b[0m \u001b[0;34m=\u001b[0m \u001b[0;34m'%Y-%m-%d %H:%M:%S %Z'\u001b[0m\u001b[0;34m\u001b[0m\u001b[0m\n\u001b[1;32m      3\u001b[0m \u001b[0mdepart_sfo\u001b[0m \u001b[0;34m=\u001b[0m \u001b[0;34m'2014-05-01 15:45:16 PDT'\u001b[0m\u001b[0;34m\u001b[0m\u001b[0m\n\u001b[0;32m----> 4\u001b[0;31m \u001b[0mtime_tuple\u001b[0m \u001b[0;34m=\u001b[0m \u001b[0mstrptime\u001b[0m\u001b[0;34m(\u001b[0m\u001b[0mdepart_sfo\u001b[0m\u001b[0;34m,\u001b[0m \u001b[0mparse_format\u001b[0m\u001b[0;34m)\u001b[0m\u001b[0;34m\u001b[0m\u001b[0m\n\u001b[0m\u001b[1;32m      5\u001b[0m \u001b[0mtime_str\u001b[0m \u001b[0;34m=\u001b[0m \u001b[0mstrftime\u001b[0m\u001b[0;34m(\u001b[0m\u001b[0mtime_format\u001b[0m\u001b[0;34m,\u001b[0m \u001b[0mtime_tuple\u001b[0m\u001b[0;34m)\u001b[0m\u001b[0;34m\u001b[0m\u001b[0m\n",
      "\u001b[0;32m/Library/Frameworks/Python.framework/Versions/3.5/lib/python3.5/_strptime.py\u001b[0m in \u001b[0;36m_strptime_time\u001b[0;34m(data_string, format)\u001b[0m\n\u001b[1;32m    502\u001b[0m     \"\"\"Return a time struct based on the input string and the\n\u001b[1;32m    503\u001b[0m     format string.\"\"\"\n\u001b[0;32m--> 504\u001b[0;31m     \u001b[0mtt\u001b[0m \u001b[0;34m=\u001b[0m \u001b[0m_strptime\u001b[0m\u001b[0;34m(\u001b[0m\u001b[0mdata_string\u001b[0m\u001b[0;34m,\u001b[0m \u001b[0mformat\u001b[0m\u001b[0;34m)\u001b[0m\u001b[0;34m[\u001b[0m\u001b[0;36m0\u001b[0m\u001b[0;34m]\u001b[0m\u001b[0;34m\u001b[0m\u001b[0m\n\u001b[0m\u001b[1;32m    505\u001b[0m     \u001b[0;32mreturn\u001b[0m \u001b[0mtime\u001b[0m\u001b[0;34m.\u001b[0m\u001b[0mstruct_time\u001b[0m\u001b[0;34m(\u001b[0m\u001b[0mtt\u001b[0m\u001b[0;34m[\u001b[0m\u001b[0;34m:\u001b[0m\u001b[0mtime\u001b[0m\u001b[0;34m.\u001b[0m\u001b[0m_STRUCT_TM_ITEMS\u001b[0m\u001b[0;34m]\u001b[0m\u001b[0;34m)\u001b[0m\u001b[0;34m\u001b[0m\u001b[0m\n\u001b[1;32m    506\u001b[0m \u001b[0;34m\u001b[0m\u001b[0m\n",
      "\u001b[0;32m/Library/Frameworks/Python.framework/Versions/3.5/lib/python3.5/_strptime.py\u001b[0m in \u001b[0;36m_strptime\u001b[0;34m(data_string, format)\u001b[0m\n\u001b[1;32m    341\u001b[0m     \u001b[0;32mif\u001b[0m \u001b[0;32mnot\u001b[0m \u001b[0mfound\u001b[0m\u001b[0;34m:\u001b[0m\u001b[0;34m\u001b[0m\u001b[0m\n\u001b[1;32m    342\u001b[0m         raise ValueError(\"time data %r does not match format %r\" %\n\u001b[0;32m--> 343\u001b[0;31m                          (data_string, format))\n\u001b[0m\u001b[1;32m    344\u001b[0m     \u001b[0;32mif\u001b[0m \u001b[0mlen\u001b[0m\u001b[0;34m(\u001b[0m\u001b[0mdata_string\u001b[0m\u001b[0;34m)\u001b[0m \u001b[0;34m!=\u001b[0m \u001b[0mfound\u001b[0m\u001b[0;34m.\u001b[0m\u001b[0mend\u001b[0m\u001b[0;34m(\u001b[0m\u001b[0;34m)\u001b[0m\u001b[0;34m:\u001b[0m\u001b[0;34m\u001b[0m\u001b[0m\n\u001b[1;32m    345\u001b[0m         raise ValueError(\"unconverted data remains: %s\" %\n",
      "\u001b[0;31mValueError\u001b[0m: time data '2014-05-01 15:45:16 PDT' does not match format '%Y-%m-%d %H:%M:%S %Z'"
     ]
    }
   ],
   "source": [
    "# 태평양 연안 표준시의 샌프란시스코 시간대에서의 출발 시각을 파싱하는 코드\n",
    "parse_format = '%Y-%m-%d %H:%M:%S %Z'\n",
    "depart_sfo = '2014-05-01 15:45:16 PDT'\n",
    "time_tuple = strptime(depart_sfo, parse_format)\n",
    "time_str = strftime(time_format, time_tuple)"
   ]
  },
  {
   "cell_type": "markdown",
   "metadata": {},
   "source": [
    "- 에러가 뜨는데.... 플랫폼에 의존적인 time 모듈의 특성 (본 코드가 돌아간 플랫폼은 OS X)\n",
    "- 실제 동작은 내부의 C함수가 호스트 운영체제와 어떻게 동작하느냐에 따라 결정됨\n",
    "- 이와 같은 동작 때문에 파이썬 `time`은 신뢰하기 어려움\n",
    "\n",
    "## datetime 모듈\n",
    "- 파이썬에서 시간을 표현하는 두 번째 방법은 내장 모듈 `datetime`의 `datetime` 클래스를 사용하는 것\n",
    "- `time`모듈과 마찬가지로 `datetime`은 UTC에서의 현재 시각을 지역 시간으로 변경하는 데 사용할 수 있다."
   ]
  },
  {
   "cell_type": "code",
   "execution_count": 4,
   "metadata": {},
   "outputs": [
    {
     "name": "stdout",
     "output_type": "stream",
     "text": [
      "2014-08-11 03:18:30+09:00\n",
      "2014-08-10 18:18:30\n",
      "2014-08-10 18:18:30+00:00\n"
     ]
    }
   ],
   "source": [
    "# 현재 시각을 UTC로 얻어와서 한국 로컬 시간으로 변경하는 코드\n",
    "from datetime import datetime, timezone\n",
    "\n",
    "now = datetime(2014, 8, 10, 18, 18, 30)\n",
    "now_utc = now.replace(tzinfo=timezone.utc)\n",
    "now_local = now_utc.astimezone()\n",
    "print(now_local)\n",
    "print(now)\n",
    "print(now_utc)"
   ]
  },
  {
   "cell_type": "markdown",
   "metadata": {},
   "source": [
    "- `datetime` 모듈로도 지역 시간을 다시 UTC의 유닉스 타임스탬프로 쉽게 변경 가능"
   ]
  },
  {
   "cell_type": "code",
   "execution_count": 5,
   "metadata": {},
   "outputs": [
    {
     "name": "stdout",
     "output_type": "stream",
     "text": [
      "1407694710.0\n"
     ]
    }
   ],
   "source": [
    "time_str = '2014-08-11 03:18:30'\n",
    "now = datetime.strptime(time_str, time_format)\n",
    "time_tuple = now.timetuple()\n",
    "utc_now = mktime(time_tuple)\n",
    "print(utc_now)"
   ]
  },
  {
   "cell_type": "markdown",
   "metadata": {},
   "source": [
    "- `datetime`모듈은 `time`모듈과 달리 한 지역 시간을 다른 지역 시간으로 신뢰성 있게 변경\n",
    "- 하지만 `tzinfo` 클래스와 관련 메서드를 이용한 시간대 변환 기능만 제공....\n",
    "- `pytz`를 사용하면 모든 시간대 사용가능, 모든 시간대에 대한 정의를 담은 전체 데이터베이스를 포함함\n",
    "- `pytz`를 효과적으로 사용하려면 항상 지역 시간을 UTC로 먼저 변경해야함.\n",
    "- 이후 UTC값에 필요한 `datatime`연산 (오프셋 지정 등)을 수행\n",
    "- 마지막으로 지역 시간으로 변환"
   ]
  },
  {
   "cell_type": "code",
   "execution_count": 6,
   "metadata": {},
   "outputs": [
    {
     "name": "stdout",
     "output_type": "stream",
     "text": [
      "2014-05-02 03:33:24+00:00\n"
     ]
    }
   ],
   "source": [
    "# NYC 도착시간은 UTC datetime으로 변환하는 코드\n",
    "import pytz\n",
    "arrival_nyc = '2014-05-01 23:33:24'\n",
    "nyc_dt_naive = datetime.strptime(arrival_nyc, time_format)\n",
    "eastern = pytz.timezone('US/Eastern')\n",
    "nyc_dt = eastern.localize(nyc_dt_naive)\n",
    "utc_dt = pytz.utc.normalize(nyc_dt.astimezone(pytz.utc))\n",
    "print(utc_dt)"
   ]
  },
  {
   "cell_type": "code",
   "execution_count": 7,
   "metadata": {},
   "outputs": [
    {
     "name": "stdout",
     "output_type": "stream",
     "text": [
      "2014-05-01 20:33:24-07:00\n"
     ]
    }
   ],
   "source": [
    "# UTC datetime을 얻었으니 샌프란시스코 지역 시간으로 변환해보자\n",
    "pacific = pytz.timezone('US/Pacific')\n",
    "sf_dt = pacific.normalize(utc_dt.astimezone(pacific))\n",
    "print(sf_dt)"
   ]
  },
  {
   "cell_type": "code",
   "execution_count": 8,
   "metadata": {},
   "outputs": [
    {
     "name": "stdout",
     "output_type": "stream",
     "text": [
      "2014-05-02 12:33:24+09:00\n"
     ]
    }
   ],
   "source": [
    "# 마찬가지로 한국의 지역시간으로 변환 가능\n",
    "seoul = pytz.timezone('Asia/Seoul')\n",
    "seoul_dt = seoul.normalize(utc_dt.astimezone(seoul))\n",
    "print(seoul_dt)"
   ]
  },
  {
   "cell_type": "markdown",
   "metadata": {},
   "source": [
    "- `datetime`과 `pytz`를 사용하면 이런 변환이 호스트 컴퓨터에서 구동하는 운영체제와 상관없이 모든 환경에서 동일하게 동작\n",
    "\n",
    "## 핵심 정리\n",
    "- 서로 다른 시간대를 변환하는 데는 `time`모듈을 사용하지 말자\n",
    "- `pytz`모듈과 내장 모듈 `datetime`으로 서로 다른 시간대 사이에서 시간을 신뢰성 있게 변환하자.\n",
    "- 항상 UTC로 시간을 표현하고, 시간을 표시하기 전에 마지막 단게로 UTC 시간을 지역 시간으로 변환하자"
   ]
  },
  {
   "cell_type": "code",
   "execution_count": null,
   "metadata": {},
   "outputs": [],
   "source": []
  }
 ],
 "metadata": {
  "kernelspec": {
   "display_name": "Python 3",
   "language": "python",
   "name": "python3"
  },
  "language_info": {
   "codemirror_mode": {
    "name": "ipython",
    "version": 3
   },
   "file_extension": ".py",
   "mimetype": "text/x-python",
   "name": "python",
   "nbconvert_exporter": "python",
   "pygments_lexer": "ipython3",
   "version": "3.5.4"
  }
 },
 "nbformat": 4,
 "nbformat_minor": 2
}
