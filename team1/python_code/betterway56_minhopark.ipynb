{
 "cells": [
  {
   "cell_type": "markdown",
   "metadata": {},
   "source": [
    "# BetterWay 56. unittest로 모든 것을 테스트 하자\n",
    "\n",
    "- 파이썬에는 정적 타입 검사 기능이 없음.... 컴파일러는 프로그램이 제대로 동작함을 보장하지 않음\n",
    "    - c, java 같은 경우는 syntax error같은거를 binary 만들어주는 compiler 동작때 모두 잡아줌\n",
    "- 파이썬으로는 프로그램에서 호출하는 함수가 런타임에 정의되어 있을지 알 수 없으며, 심지어 해당 함수가 소스코드에 있다고 해도 알 수 없다.\n",
    "- 일례로, 동적 임포트의 부작용으로 `SyntaxError`가 **제품**에서 발생함\n",
    "\n",
    "---\n",
    "\n",
    "- 이러한 문제점을 잡아내기 위해서는 **테스트**가 필수적! 어떤 언어로 프로그램을 작성하든!\n",
    "- 다행히 파이썬에서는 동적 기능이 파이썬의 정적 타입 검사는 방해하지만, 동시에 코드 테스트를 아주 쉽게 작성할 수 있게 해줌\n",
    "- 파이선의 동적 특성과 쉽게 오버라이드할 수 있는 동작으로 테스트를 구현하여 프로그램이 예상대로 잘 동작함을 보장 할 수 있음\n",
    "\n",
    "---\n",
    "\n",
    "- 테스트는 코드에 대한 보장 정책\n",
    "- 좋은 테스트는 코드가 올바르게 동작한다는 신회를 줌\n",
    "- 코드를 리팩토링하거나 확장하는 용도로 테스트를 사용하면, 동작이 어떻게 바뀌는지 쉽게 구별할 수 있음\n",
    "- 테스트를 작성하는 가장 간단한 방법은 내장 모듈`unittest`를 사용하는 것"
   ]
  },
  {
   "cell_type": "markdown",
   "metadata": {},
   "source": [
    "- 예를 들어 `utils.py`에 다음과 같은 유틸리티 함수를 정의했다고 하자"
   ]
  },
  {
   "cell_type": "code",
   "execution_count": 1,
   "metadata": {},
   "outputs": [],
   "source": [
    "# utils.py\n",
    "def to_str(data):\n",
    "    if isinstance(data, str):\n",
    "        return data\n",
    "    elif isinstance(data, bytes):\n",
    "        return data.decode('utf-8')\n",
    "    else:\n",
    "        raise TypeError('Must supply str or bytes, ' 'found: %r' % data)"
   ]
  },
  {
   "cell_type": "markdown",
   "metadata": {},
   "source": [
    "- 기대하는 각 동작에 대한 테스트를 담은 `test_utils.py`라는 두번째 파일을 생성 (`utils_test.py`)"
   ]
  },
  {
   "cell_type": "code",
   "execution_count": 10,
   "metadata": {},
   "outputs": [
    {
     "name": "stderr",
     "output_type": "stream",
     "text": [
      "E\n",
      "======================================================================\n",
      "ERROR: /Users/minhopark/Library/Jupyter/runtime/kernel-0e8bea65-c31a-4cea-928e-764744e126c2 (unittest.loader._FailedTest)\n",
      "----------------------------------------------------------------------\n",
      "AttributeError: module '__main__' has no attribute '/Users/minhopark/Library/Jupyter/runtime/kernel-0e8bea65-c31a-4cea-928e-764744e126c2'\n",
      "\n",
      "----------------------------------------------------------------------\n",
      "Ran 1 test in 0.004s\n",
      "\n",
      "FAILED (errors=1)\n"
     ]
    },
    {
     "ename": "SystemExit",
     "evalue": "True",
     "output_type": "error",
     "traceback": [
      "An exception has occurred, use %tb to see the full traceback.\n",
      "\u001b[0;31mSystemExit\u001b[0m\u001b[0;31m:\u001b[0m True\n"
     ]
    },
    {
     "name": "stderr",
     "output_type": "stream",
     "text": [
      "/Users/minhopark/tensorflow/lib/python3.5/site-packages/IPython/core/interactiveshell.py:2918: UserWarning: To exit: use 'exit', 'quit', or Ctrl-D.\n",
      "  warn(\"To exit: use 'exit', 'quit', or Ctrl-D.\", stacklevel=1)\n"
     ]
    }
   ],
   "source": [
    "# utils_test.py\n",
    "from unittest import TestCase, main\n",
    "# from utils import to_str\n",
    "\n",
    "class UtilsTestCase(TestCase):\n",
    "    def test_to_str_bytes(self):\n",
    "        self.assertEqual('hello', to_str(b'hello'))\n",
    "        \n",
    "    def test_to_str_str(self):\n",
    "        self.assertEqual('hello', to_str('hello'))\n",
    "        \n",
    "    def test_to_str_bad(self):\n",
    "        self.assertRaises(TypeError, to_str, object())\n",
    "        \n",
    "#if __name__ == '__main__':\n",
    "#    main()"
   ]
  },
  {
   "cell_type": "markdown",
   "metadata": {},
   "source": [
    "- `TestCase` 클래스는 테스트에서 `assertion`을 하는 데 필요한 헬퍼 메서드를 제공\n",
    "    - 동등성 검사 `assertEqual`\n",
    "    - bool 표현식 검사 `assertTrue`\n",
    "    - 적절할 때 예외가 발생하는지 검사하는 `assertRaises`\n",
    "    - ... 자세한거는 `help(TestCase)`로 확인 요망\n",
    "- `TestCase` 서브 클래스에 자신만의 헬퍼 메서드를 정의하여 테스트를 더 이해하기 쉽게 만들 수 있다. \n",
    "    - 헬퍼 메서드의 이름이 `test`로 시작하지 않게만 하면 됨\n",
    "    \n",
    "### note\n",
    "- 테스트를 작성할 때 다른 일반적인 관례는 mock함수로 클래스의 특정 동작을 제거하는 것\n",
    "- 파이썬3는 이런 목적으로 내장 모듈 `unittest.mock`을 제공 (참고 [python mock](https://blog.leop0ld.org/posts/about-mocking/))"
   ]
  },
  {
   "cell_type": "markdown",
   "metadata": {},
   "source": [
    "- 때때로 `TestCase`클래스에서 테스트 메서드를 실행하기 전에 테스트 환경을 설정해야 함\n",
    "    - `setUp`, `tearDown` Override 필요\n",
    "- 위 메서드 들은 각 테스트 메서드를 싱행하기 전후에 각각 호출\n",
    "- 각 테스트라 분리되어 실행됨을 보장 (적절한 테스트의 모범 사례)\n",
    "- ex) 각 테스트 전에 임시 디렉터리를 생성하고, 각 테스트가 종료한 후에 그 내용을 삭제하는 `TestCase` 정의"
   ]
  },
  {
   "cell_type": "code",
   "execution_count": 11,
   "metadata": {},
   "outputs": [],
   "source": [
    "class MyTest(TestCase):\n",
    "    def setUP(self):\n",
    "        self.test_dir = TemporaryDirectory()\n",
    "    def tearDown(self):\n",
    "        self.test_dir.cleanup()\n",
    "    # 테스트 메서드\n",
    "    # ..."
   ]
  },
  {
   "cell_type": "markdown",
   "metadata": {},
   "source": [
    "- 보통 관련 테스트의 각 집합별로 `TestCase`하나 정의\n",
    "- 때때로 예외 상황이 많은 각 함수별로 `TestCase`만듦\n",
    "- 또는 때때로 `TestCase`하나로 한 모듈에 속한 모든 함수를 처리하기도 함\n",
    "- 또한 단일 클래스와 그 클래스의 메서드를 테스트할 용도로 `TestCase`를 생성하기도 함\n",
    "\n",
    "---\n",
    "\n",
    "- 프로그램이 복잡해지면 코드를 별도로 테스트하는 대신에 모듈 간의 상호 작용을 검증할 테스트를 추가함 - Integration test (통합 테스트)\n",
    "- 파이썬도 또한 단위 테스트와 통합 테스트를 모두 진행해야 함\n",
    "\n",
    "### Note\n",
    "- 프로젝트에 따라 데이터 중심 테스트를 정의하거나 관련 기능을 다르게 묶어서 테스트를 구성하는 편이 유용 할 수 있음\n",
    "- 이런 목적과 코드 커버리지 보고서, 다른 고급 활용 사례에는 [`nose`](http://nose.readthedocs.org/)와 [`pytest`](http://pytest.org) 가 도움 된다.\n",
    "\n",
    "## 핵심 정리\n",
    "- 파이썬 프로그램을 신뢰할 수 있는 유일한 방법은 테스트 작성!\n",
    "- 내장 모듈 `unittest`는 좋은 테스트를 작성하는 데 필요한 대부분의 기능을 제공\n",
    "- `TestCase`를 상속하고 테스트 하려는 동작별로 메서드 하나를 저으이해서 테스트를 정의 할 수 있음\n",
    "- `TestCase`클래스에 있는 테스트 메서드는 `test`라는 단어로 시작해야 함\n",
    "- 단위 테스트(고립된 기능용)와 통합 테스트(상호 작용하는 모듈용) 모두를 작성해야 함"
   ]
  },
  {
   "cell_type": "code",
   "execution_count": null,
   "metadata": {},
   "outputs": [],
   "source": []
  }
 ],
 "metadata": {
  "kernelspec": {
   "display_name": "Python 3",
   "language": "python",
   "name": "python3"
  },
  "language_info": {
   "codemirror_mode": {
    "name": "ipython",
    "version": 3
   },
   "file_extension": ".py",
   "mimetype": "text/x-python",
   "name": "python",
   "nbconvert_exporter": "python",
   "pygments_lexer": "ipython3",
   "version": "3.5.4"
  }
 },
 "nbformat": 4,
 "nbformat_minor": 2
}
