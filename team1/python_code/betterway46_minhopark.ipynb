{
 "cells": [
  {
   "cell_type": "markdown",
   "metadata": {},
   "source": [
    "# BetterWay 46. 내장 알고리즘과 자료 구조를 사용하자\n",
    "\n",
    "- 알고리즘을 니들 맘대로 짜면 느려지는데, 그건 파이썬 문제가 아님\n",
    "- 이런 문제는 최적의 알고리즘과 **자료 구조**를 사용하지 않아서 일어났을 가능성이 큼\n",
    "- 파이썬에 이런 최적 알고리즘과 자료구조를 갖추고 있으니 그걸 사용하자 다시 구현하면 머리 터짐"
   ]
  },
  {
   "cell_type": "markdown",
   "metadata": {},
   "source": [
    "## 더블 엔디드 큐\n",
    "- `collection` 모듈의 `deque`클래스는 더블 엔디드 큐 (double ended queue)이다.\n",
    "- `deque`는 큐의 처음과 끝에서 아이템을 삽입하거나 삭제할 때 항상 일정한 시간이 걸리느 연산을 제공\n",
    "- FIFO 큐를 만들 때 이상적"
   ]
  },
  {
   "cell_type": "code",
   "execution_count": 1,
   "metadata": {},
   "outputs": [
    {
     "name": "stdout",
     "output_type": "stream",
     "text": [
      "1\n"
     ]
    }
   ],
   "source": [
    "from collections import deque\n",
    "fifo = deque()\n",
    "fifo.append(1)\n",
    "x = fifo.popleft()\n",
    "print (x)"
   ]
  },
  {
   "cell_type": "markdown",
   "metadata": {},
   "source": [
    "- 이렇게만 보면 `list`와 같지 않느냐? 할 수 있는데!\n",
    "- `list`의 경우 리스트의 시작 부분에서 아이템을 삽입하거나 삭제하는 연산에서 **linear time이 걸린다** `deque`보다 훨씬 느림"
   ]
  },
  {
   "cell_type": "markdown",
   "metadata": {},
   "source": [
    "## 정렬된 딕셔너리\n",
    "- 표준 딕셔너리는 정렬되어 있지 않음\n",
    "- 즉, 같은 키와 값을 담은 `dict`를 순회해도 다른 순서가 나올 수 있다는 것\n",
    "- 이런 동작은 딕셔너리의 빠른 해시 테이블을 구현하는 방식이 만들어낸 뜻밖의 부작용임"
   ]
  },
  {
   "cell_type": "code",
   "execution_count": 2,
   "metadata": {},
   "outputs": [
    {
     "name": "stdout",
     "output_type": "stream",
     "text": [
      "152\n",
      "{'foo': 1, 'bar': 2}\n",
      "{'bar': 2, 'foo': 1}\n",
      "Equal? True\n"
     ]
    }
   ],
   "source": [
    "from random import randint\n",
    "a={}\n",
    "a['foo'] = 1\n",
    "a['bar'] = 2\n",
    "\n",
    "# 무작위로 'b'에 데이터를 추가해서 해시 충돌을 일으킴\n",
    "while True:\n",
    "    z = randint(99, 1013)\n",
    "    print(z)\n",
    "    b = {}\n",
    "    for i in range(z):\n",
    "        b[i] = i    \n",
    "    b['foo'] = 1\n",
    "    b['bar'] = 2\n",
    "    for i in range(z):\n",
    "        del b[i]\n",
    "    if str(b) != str(a):\n",
    "        break\n",
    "\n",
    "print(a)\n",
    "print(b)\n",
    "print('Equal?', a == b)\n"
   ]
  },
  {
   "cell_type": "markdown",
   "metadata": {},
   "source": [
    "- `collection`모듈의 `OrderedDict`클래스는 키가 삽입된 순서를 유지하는 특별한 딕셔너리 타입\n",
    "- `OrderedDict`의 키를 순회하는 것은 예상 가능한 동작이므로 테스팅과 디버깅이 쉬워짐\n"
   ]
  },
  {
   "cell_type": "code",
   "execution_count": 3,
   "metadata": {},
   "outputs": [
    {
     "name": "stdout",
     "output_type": "stream",
     "text": [
      "OrderedDict([('foo', 1), ('bar', 2)])\n",
      "OrderedDict([('foo', 'red'), ('bar', 'blue')])\n",
      "1 red\n",
      "2 blue\n"
     ]
    }
   ],
   "source": [
    "from collections import OrderedDict\n",
    "\n",
    "a = OrderedDict()\n",
    "a['foo'] = 1\n",
    "a['bar'] = 2\n",
    "\n",
    "b = OrderedDict()\n",
    "b['foo'] = 'red'\n",
    "b['bar'] = 'blue'\n",
    "\n",
    "print(a)\n",
    "print(b)\n",
    "for value1, value2 in zip(a.values(), b.values()):\n",
    "    print(value1, value2)"
   ]
  },
  {
   "cell_type": "markdown",
   "metadata": {},
   "source": [
    "## 기본 딕셔너리\n",
    "- 딕셔너리는 통계를 관리하고 추적하는 작업에 유용\n",
    "- 딕셔너리를 사용할 때 한 가지 문제는 어떤 키가 이미 존재한다고 가정할 수 없다는 것\n",
    "- 이 문제 때문에 딕셔너리에 저장된 카운터를 증가시키는 것처럼 간단한 작업도 까다로움"
   ]
  },
  {
   "cell_type": "code",
   "execution_count": 4,
   "metadata": {},
   "outputs": [],
   "source": [
    "stats = {}\n",
    "key = 'my_counter'\n",
    "if key not in stats:\n",
    "    stats[key] = 0\n",
    "stats[key] += 1"
   ]
  },
  {
   "cell_type": "markdown",
   "metadata": {},
   "source": [
    "- `collections` 모듈의 `defaultdict`클래스는 키가 존재하지 않으면 자동으로 기본값을 저장하도록 하여 이런 작업을 간소화\n",
    "- 할 일은 그저 키가 없을 때마다 기본값을 반환할 함수를 제공하는 것 뿐\n",
    "- 다음 예제에서 내장 함수 `int`는 0을 반환 (카운터를 증가시키는것은 간단데스)"
   ]
  },
  {
   "cell_type": "code",
   "execution_count": 5,
   "metadata": {},
   "outputs": [],
   "source": [
    "from collections import defaultdict\n",
    "stats = defaultdict(int)\n",
    "stats['my_counter'] += 1"
   ]
  },
  {
   "cell_type": "markdown",
   "metadata": {},
   "source": [
    "## 힙 큐\n",
    "- 힙(heap)은 우선순위 큐(priority queue)를 유지하는 유용한 자료구조다\n",
    "- `heapq`모듈은 표준 `list`타입으로 힙을 생성하는 `heappush`, `heappop`, `nsmallest`같은 함수를 제공한다\n",
    "- 임의우 우선순위를 가지는 아이템을 어떤 순서로도 힙에 삽입할 수 있다.\n"
   ]
  },
  {
   "cell_type": "code",
   "execution_count": 6,
   "metadata": {},
   "outputs": [
    {
     "name": "stdout",
     "output_type": "stream",
     "text": [
      "3 4 5 7\n"
     ]
    }
   ],
   "source": [
    "from heapq import *\n",
    "a = []\n",
    "heappush(a, 5)\n",
    "heappush(a, 3)\n",
    "heappush(a, 7)\n",
    "heappush(a, 4)\n",
    "\n",
    "# 우선 순위가 높은 것 (가장 낮은 수)부터 제거됨\n",
    "print(heappop(a), heappop(a), heappop(a), heappop(a))"
   ]
  },
  {
   "cell_type": "markdown",
   "metadata": {},
   "source": [
    "- 결과로 만들어지는 `list`를 `heapq`외부에서도 쉽게 사용할 수 있다.\n",
    "- 힙의 0 인덱스에 접근하면 항상 가장 작은 아이템이 반환됨\n"
   ]
  },
  {
   "cell_type": "code",
   "execution_count": 7,
   "metadata": {},
   "outputs": [],
   "source": [
    "a=[]\n",
    "heappush(a, 5)\n",
    "heappush(a, 3)\n",
    "heappush(a, 7)\n",
    "heappush(a, 4)\n",
    "assert a[0] == nsmallest(1, a)[0] == 3"
   ]
  },
  {
   "cell_type": "code",
   "execution_count": 8,
   "metadata": {},
   "outputs": [
    {
     "name": "stdout",
     "output_type": "stream",
     "text": [
      "[3, 4]\n"
     ]
    }
   ],
   "source": [
    "print(nsmallest(2, a))"
   ]
  },
  {
   "cell_type": "markdown",
   "metadata": {},
   "source": [
    "- `list`의 `sort`메서드를 호출하더라도 힙의 불변성이 유지\n"
   ]
  },
  {
   "cell_type": "code",
   "execution_count": 9,
   "metadata": {},
   "outputs": [
    {
     "name": "stdout",
     "output_type": "stream",
     "text": [
      "Before [3, 4, 7, 5]\n",
      "After [3, 4, 5, 7]\n"
     ]
    }
   ],
   "source": [
    "print('Before', a)\n",
    "a.sort()\n",
    "print('After', a)"
   ]
  },
  {
   "cell_type": "markdown",
   "metadata": {},
   "source": [
    "- 이러한 각 `heapq`연산에 걸리는 시간은 리스트의 길이에 비례하여 **로그 형태로 증가**\n",
    "- 표준 파이썬 리스트로 같은 동작을 수행하면 시간이 **선형적으로 증가**"
   ]
  },
  {
   "cell_type": "markdown",
   "metadata": {},
   "source": [
    "## 바이섹션\n",
    "- `list`에서 아이템을 검색하는 작업은 `index`메서드를 호출할 때 리스트의 길이에 비례한 **선형적 시간**이 걸린다"
   ]
  },
  {
   "cell_type": "code",
   "execution_count": 10,
   "metadata": {},
   "outputs": [],
   "source": [
    "import time\n",
    "x = list(range(10**8))"
   ]
  },
  {
   "cell_type": "code",
   "execution_count": 11,
   "metadata": {},
   "outputs": [
    {
     "name": "stdout",
     "output_type": "stream",
     "text": [
      "0.01512289047241211\n"
     ]
    }
   ],
   "source": [
    "start_time = time.time()\n",
    "i = x.index(991234)\n",
    "print(time.time() - start_time)"
   ]
  },
  {
   "cell_type": "code",
   "execution_count": 12,
   "metadata": {},
   "outputs": [
    {
     "name": "stdout",
     "output_type": "stream",
     "text": [
      "9.894371032714844e-05\n"
     ]
    }
   ],
   "source": [
    "from bisect import *\n",
    "start_time = time.time()\n",
    "i = bisect_left(x, 991234)\n",
    "print(time.time() - start_time)"
   ]
  },
  {
   "cell_type": "markdown",
   "metadata": {},
   "source": [
    "- 바이너리 검색의 복잡도는 **로그 형태로 증가**한다.\n",
    "- 아이템 백만 개를 담은 리스트를 `bisect`로 검색할 때 걸리는 시간은 아이템 14개를 담은 리스트를 `index`로 순차 검색할 때 걸리는 시간과 거의 같다"
   ]
  },
  {
   "cell_type": "markdown",
   "metadata": {},
   "source": [
    "## 이터레이터 도구\n",
    "- 내장 모듈 `itertools`는 이터레이터를 구성하거나 이터레이터와 상호작용하는데 유용한 함수를 다수 포함(이미 bw16, 17에서 본 바 있음)\n",
    "- `itertools`에 있는 함수는 세가지 주요 카테고리로 나뉜다.\n",
    "\n",
    "---\n",
    "\n",
    "- 이터레이터 연결\n",
    "    - `chain`: 여러 이터레이터를 순차적인 이터레이터 하나로 결합\n",
    "    - `cycle`: 이터레이터의 아이템을 영원히 반복한다.\n",
    "    - `tee` : 이터레이터 하나를 병렬 이터레이터 여러개로 나눈다.\n",
    "    - `zip_longest` : 길이가 서로 다른 이터레이터들에도 잘 동작하는 내장 함수 `zip`의 변형\n",
    "    \n",
    "---\n",
    "\n",
    "- 이터레이터에서 아이템 필터링\n",
    "    - `islice` : 복사없이 이터레이터를 숫자로된 인덱스로 슬라이스한다.\n",
    "    - `takewhile` : 서술 함수(predicate function)가 `True`를 반환하는 동안 이터레이터의 아이템을 반환\n",
    "    - `dropwhile` : 서술함수가 처음으로 `False`를 반환하고 나면 이터레이터의 아이템을 반환\n",
    "    - `filterfalse` : 서술함수가 `False`를 반환하는 이터레이터의 모든 아이템을 반환. 내장함수 `filter`의 반대 기능\n",
    "    \n",
    "----\n",
    "\n",
    "- 이터레이터에 있는 아이템들의 조함\n",
    "    - `product`: 이터레이터에 있는 아이템들의 카테시안 곱을 반환한다. 깊게 중첩된 리스트 컴프리헨션에 대한 훌륭한 대안\n",
    "    - `permutations` : 이터레이터에 있는 아이템을 담은 길이 N의 순서 있는 순열(permutations)을 반환\n",
    "    - `combinations` : 이터레이터에 있는 아이쳄이 중복되지 않게 담은 길이 N의 순서없는 조합(combinations)을 반환\n",
    "    \n",
    "## 핵심정리\n",
    "- 알고리즘과 자료 구조를 표현하는 데는 파이썬의 내장 모듈을 사용하자\n",
    "- 이 기능들을 직접 재구현하지는 말자. 올바르게 만들기가 어렵기 때문이다."
   ]
  },
  {
   "cell_type": "code",
   "execution_count": null,
   "metadata": {},
   "outputs": [],
   "source": []
  }
 ],
 "metadata": {
  "kernelspec": {
   "display_name": "Python 3",
   "language": "python",
   "name": "python3"
  },
  "language_info": {
   "codemirror_mode": {
    "name": "ipython",
    "version": 3
   },
   "file_extension": ".py",
   "mimetype": "text/x-python",
   "name": "python",
   "nbconvert_exporter": "python",
   "pygments_lexer": "ipython3",
   "version": "3.5.4"
  }
 },
 "nbformat": 4,
 "nbformat_minor": 2
}
